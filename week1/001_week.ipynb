{
 "cells": [
  {
   "cell_type": "code",
   "execution_count": 1,
   "metadata": {},
   "outputs": [],
   "source": [
    "#1. \n",
    "names = [\"Frederikke\", \"Henrik\", \"Hans\", \"Pia\", 'hej']\n"
   ]
  },
  {
   "cell_type": "code",
   "execution_count": 3,
   "metadata": {},
   "outputs": [
    {
     "name": "stdout",
     "output_type": "stream",
     "text": [
      "Names with H: ['Henrik', 'Hans', 'hej']\n"
     ]
    }
   ],
   "source": [
    "#A Iterate a list of names to return a list of the names starting with H\n",
    "result = [index for index in names if index[0].lower() == ('H').lower()]\n",
    "print('Names with H: ' + str(result))"
   ]
  },
  {
   "cell_type": "code",
   "execution_count": 4,
   "metadata": {},
   "outputs": [
    {
     "name": "stdout",
     "output_type": "stream",
     "text": [
      "[0, 1, 8, 27, 64]\n"
     ]
    }
   ],
   "source": [
    "#B In one line create a list of the numbers 1-100 to the power of 3\n",
    "power = [value**3 for value in range(0, 100) if value**3 <100]\n",
    "print(power)"
   ]
  },
  {
   "cell_type": "code",
   "execution_count": 5,
   "metadata": {},
   "outputs": [
    {
     "name": "stdout",
     "output_type": "stream",
     "text": [
      "10 Frederikke\n",
      "6 Henrik\n",
      "4 Hans\n",
      "3 Pia\n",
      "3 hej\n"
     ]
    }
   ],
   "source": [
    "#C Iterate a list of names to create a list of tuples where the tuples first value is the length of the name and the second is the name\n",
    "names_tuple = tuple(names)\n",
    "for name in names_tuple:\n",
    "    print(len(name), name)"
   ]
  },
  {
   "cell_type": "code",
   "execution_count": 10,
   "metadata": {},
   "outputs": [
    {
     "name": "stdout",
     "output_type": "stream",
     "text": [
      "32433\n"
     ]
    }
   ],
   "source": [
    "#D Iterate over each character in a string and get only those that are nummeric\n",
    "first = '32u43ri3r'\n",
    "last = ''\n",
    "for number in first:\n",
    "    if number.isdigit():\n",
    "        last += number\n",
    "print(last)"
   ]
  },
  {
   "cell_type": "code",
   "execution_count": 22,
   "metadata": {},
   "outputs": [
    {
     "name": "stdout",
     "output_type": "stream",
     "text": [
      "{(1, 3), (3, 0), (0, 2), (2, 1), (5, 1), (2, 5), (0, 3), (4, 0), (1, 2), (3, 3), (5, 5), (4, 4), (1, 5), (5, 0), (2, 2), (0, 4), (4, 1), (1, 1), (3, 2), (0, 0), (5, 4), (4, 5), (5, 2), (1, 4), (0, 5), (2, 3), (4, 2), (1, 0), (3, 5), (0, 1), (5, 3), (3, 1), (2, 0), (4, 3), (3, 4), (2, 4)}\n"
     ]
    }
   ],
   "source": [
    "#E Using only a list comprehension wrapped in set() get all possible combination from throwing 2 dice\n",
    "\n",
    "comb = set([(dice1, dice2) for dice1 in range(6) for dice2 in range(6)])\n",
    "print(comb)"
   ]
  },
  {
   "cell_type": "code",
   "execution_count": 11,
   "metadata": {},
   "outputs": [],
   "source": [
    "#2"
   ]
  },
  {
   "cell_type": "code",
   "execution_count": 12,
   "metadata": {},
   "outputs": [
    {
     "name": "stdout",
     "output_type": "stream",
     "text": [
      "['Hans', 'Grethe', 'Frederikke', 'Zæppo', 'Anni']\n",
      "{'Hans': 4, 'Grethe': 6, 'Frederikke': 10, 'Zæppo': 5, 'Anni': 4}\n"
     ]
    }
   ],
   "source": [
    "#A. Iterate a list of names and create a dictionary where key is the name and value is the length of the name\n",
    "names = ['Hans', 'Grethe', 'Frederikke', 'Zæppo', 'Anni']\n",
    "print(names)\n",
    "\n",
    "names_dic = {name: len(name) for name in names}\n",
    "print(names_dic)"
   ]
  },
  {
   "cell_type": "code",
   "execution_count": 13,
   "metadata": {},
   "outputs": [
    {
     "name": "stdout",
     "output_type": "stream",
     "text": [
      "{25: 5.0, 30: 5.477225575051661, 40: 6.324555320336759, 10: 3.1622776601683795, 70: 8.366600265340756, 80: 8.94427190999916}\n"
     ]
    }
   ],
   "source": [
    "#B. Iterate a list of numbers and create a dictionary with (key, value) being (number, squareroot of number)\n",
    "numbers = [ 25, 30, 40, 10, 70, 80]\n",
    "\n",
    "import math\n",
    "numbers_dic = {number: math.sqrt(number) for number in numbers}\n",
    "print(numbers_dic)"
   ]
  },
  {
   "cell_type": "code",
   "execution_count": 14,
   "metadata": {},
   "outputs": [],
   "source": [
    "#3"
   ]
  },
  {
   "cell_type": "code",
   "execution_count": null,
   "metadata": {},
   "outputs": [],
   "source": [
    "#Progammatically using loops create a small program to produce a dictionary with all the 2 dice throw combinations as keys and their likelyhood in percent as values\n"
   ]
  }
 ],
 "metadata": {
  "kernelspec": {
   "display_name": "Python 3",
   "language": "python",
   "name": "python3"
  },
  "language_info": {
   "codemirror_mode": {
    "name": "ipython",
    "version": 3
   },
   "file_extension": ".py",
   "mimetype": "text/x-python",
   "name": "python",
   "nbconvert_exporter": "python",
   "pygments_lexer": "ipython3",
   "version": "3.7.4"
  }
 },
 "nbformat": 4,
 "nbformat_minor": 2
}
